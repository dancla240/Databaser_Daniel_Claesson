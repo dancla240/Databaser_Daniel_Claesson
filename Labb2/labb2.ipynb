{
 "cells": [
  {
   "cell_type": "code",
   "execution_count": 2,
   "metadata": {},
   "outputs": [],
   "source": [
    "from sqlalchemy import create_engine\n",
    "from sqlalchemy.engine import URL\n",
    "from urllib.parse import unquote"
   ]
  },
  {
   "cell_type": "code",
   "execution_count": 25,
   "metadata": {},
   "outputs": [
    {
     "name": "stdout",
     "output_type": "stream",
     "text": [
      "Connecting to database using URL string:\n",
      "mssql+pyodbc://?odbc_connect=DRIVER=ODBC+Driver+17+for+SQL+Server;SERVER=localhost;DATABASE=Bokhandel;UID=daniel;PWD=hej123 \n",
      "\n",
      "Successfully connected to Bokhandel!\n"
     ]
    }
   ],
   "source": [
    "#nedan skapar url\n",
    "server_name   = \"localhost\"\n",
    "database_name = \"Bokhandel\"\n",
    "\n",
    "connection_string = f\"DRIVER=ODBC Driver 17 for SQL Server;SERVER={server_name};DATABASE={database_name};UID=daniel;PWD=hej123\"\n",
    "url_string        = URL.create(\"mssql+pyodbc\", query={\"odbc_connect\": connection_string})\n",
    "\n",
    "print('Connecting to database using URL string:')\n",
    "unquoted_url = unquote(str(url_string))\n",
    "print(unquoted_url, '\\n')\n",
    "\n",
    "try:    \n",
    "    engine = create_engine(url_string) #skapar engine objekt\n",
    "    with engine.connect() as connection: # connectar mot databasen och ett connection object\n",
    "        print(f'Successfully connected to {database_name}!')\n",
    "except Exception as e:\n",
    "    print('Error while connecting to database:\\n')\n",
    "    print(e)"
   ]
  },
  {
   "cell_type": "code",
   "execution_count": 58,
   "metadata": {},
   "outputs": [
    {
     "name": "stdout",
     "output_type": "stream",
     "text": [
      "Söksträng: å\n",
      "\n",
      "titel    lagersaldo\n",
      "Titel / Butik / Saldo:\n",
      "('Omgiven av dåliga chefer', 1, 3)\n",
      "('Omgiven av dåliga chefer', 2, 1)\n",
      "('Omgiven av dåliga chefer', 3, 0)\n",
      "('Python från början', 1, 1)\n",
      "('Python från början', 2, 1)\n",
      "('Python från början', 3, 4)\n",
      "('Ödesåret 1809 - hur Sveriges historia kunde ha blivit annorlunda', 1, 2)\n",
      "('Ödesåret 1809 - hur Sveriges historia kunde ha blivit annorlunda', 2, 2)\n",
      "('Ödesåret 1809 - hur Sveriges historia kunde ha blivit annorlunda', 3, 1)\n"
     ]
    }
   ],
   "source": [
    "from sqlalchemy import text\n",
    "\n",
    "search_string = input(\"Sök bok: \")\n",
    "\n",
    "print(f\"Söksträng: {search_string}\\n\")\n",
    "parameterized_query = text(\"select b.titel as 'Titel', ls.ButikId as 'Butik', sum(ls.lagersaldo) as 'Lagersaldo' from böcker b join lagersaldo ls on b.ISBN13 = ls.ISBN13 group by b.titel, ls.ButikId, ls.lagersaldo having titel like '%' + :titel + '%'\")\n",
    "\n",
    "with engine.connect() as conn:    \n",
    "    result = conn.execute(parameterized_query, {\"titel\" : search_string})\n",
    "    list_result = list(result.fetchall())\n",
    "\n",
    "    print(\"Titel / Butik / Saldo:\")\n",
    "    for item in list_result:\n",
    "        print(f\"{item}\")"
   ]
  },
  {
   "cell_type": "markdown",
   "metadata": {},
   "source": [
    "Provar lite:"
   ]
  },
  {
   "cell_type": "code",
   "execution_count": 14,
   "metadata": {},
   "outputs": [],
   "source": [
    "#query1 = text(\"select titel from böcker\")\n",
    "query1 = text(\"Select titel from böcker where titel like '%Daniel%'\")\n"
   ]
  },
  {
   "cell_type": "code",
   "execution_count": 15,
   "metadata": {},
   "outputs": [
    {
     "name": "stdout",
     "output_type": "stream",
     "text": [
      "[('Daniels bok',)]\n",
      "<sqlalchemy.engine.cursor.CursorResult object at 0x0000026F6EC80EC0>\n",
      "<class 'sqlalchemy.engine.cursor.CursorResult'>\n",
      "<class 'list'>\n"
     ]
    }
   ],
   "source": [
    "with engine.connect() as conn:\n",
    "    result = conn.execute(query1)\n",
    "\n",
    "    #print(result)\n",
    "    #print(type(result))\n",
    "    #print(type(result.fetchall()))\n",
    "    print(result.fetchall())\n",
    "    print(result)\n",
    "    print(type(result))\n",
    "    print(type(result.fetchall()))"
   ]
  }
 ],
 "metadata": {
  "kernelspec": {
   "display_name": "Databaser_Daniel_Claesson-aR_14qcT",
   "language": "python",
   "name": "python3"
  },
  "language_info": {
   "codemirror_mode": {
    "name": "ipython",
    "version": 3
   },
   "file_extension": ".py",
   "mimetype": "text/x-python",
   "name": "python",
   "nbconvert_exporter": "python",
   "pygments_lexer": "ipython3",
   "version": "3.11.5"
  }
 },
 "nbformat": 4,
 "nbformat_minor": 2
}
